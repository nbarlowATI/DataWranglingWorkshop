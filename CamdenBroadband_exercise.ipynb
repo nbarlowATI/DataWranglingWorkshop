{
 "cells": [
  {
   "cell_type": "markdown",
   "metadata": {},
   "source": [
    "# Exercise 2 - Camden broadband\n",
    "\n",
    "(Credit to James Cheshire (UCL) for the data and the outline of the challenge)\n",
    "\n",
    "## Part 1: make a choropleth map of median internet speeds in 2017 in Camden.\n",
    "\n",
    "The files \"resources/bband_camden.csv\" and \"resources/bband_camden.shp\" should contain the same information (check!), but the .shp contains polygons that can be drawn with the *geopandas* package.\n",
    "\n",
    "## Part 2 - combine with internet user classification data\n",
    "\n",
    "The file \"resources/iuc2018.csv\" contains a label per LSOA of typical internet users within that region.\n",
    "\n",
    "### Challenge: make a plot of minimum broadband speed per LSOA per category of internet user.\n",
    "\n",
    "**Hint** Will need to join the dataframes *df_iuc* and *df_shp*.  A \"right join\" should do what we want.   The column we want from *df_iuc* is \"GRP_LABEL\".\n"
   ]
  },
  {
   "cell_type": "code",
   "execution_count": 2,
   "metadata": {},
   "outputs": [],
   "source": [
    "import pandas as pd\n",
    "import geopandas as gpd\n",
    "import matplotlib.pyplot as plt"
   ]
  },
  {
   "cell_type": "markdown",
   "metadata": {},
   "source": [
    "First load the bband_camden csv file (using pandas) and shp files (using geopandas):"
   ]
  },
  {
   "cell_type": "code",
   "execution_count": 5,
   "metadata": {},
   "outputs": [],
   "source": [
    "df_csv = pd.read_csv(\"resources/bband_camden.csv\")\n",
    "df_shp = gpd.read_file(\"resources/bband_camden.shp\")"
   ]
  },
  {
   "cell_type": "code",
   "execution_count": null,
   "metadata": {},
   "outputs": [],
   "source": []
  }
 ],
 "metadata": {
  "kernelspec": {
   "display_name": "Python 3",
   "language": "python",
   "name": "python3"
  },
  "language_info": {
   "codemirror_mode": {
    "name": "ipython",
    "version": 3
   },
   "file_extension": ".py",
   "mimetype": "text/x-python",
   "name": "python",
   "nbconvert_exporter": "python",
   "pygments_lexer": "ipython3",
   "version": "3.6.3"
  }
 },
 "nbformat": 4,
 "nbformat_minor": 2
}
