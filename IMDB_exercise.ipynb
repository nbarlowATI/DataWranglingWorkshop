{
 "cells": [
  {
   "cell_type": "markdown",
   "metadata": {},
   "source": [
    "# Exercise 1:  IMDB csv data\n",
    "\n",
    "## Challenge: Using the file \"resources/imdb.csv\", find out whether Action movies are better or worse than Romance movies.\n",
    "\n",
    "**Complication**: the csv file (an excerpt from one used in a Kaggle challenge) has a slightly unusual format - commas in text fields are escaped by a \"\\\\\" character.  This might upset your csv parser."
   ]
  },
  {
   "cell_type": "markdown",
   "metadata": {},
   "source": [
    "First, lets check the file is there, and how many rows it has:"
   ]
  },
  {
   "cell_type": "code",
   "execution_count": 1,
   "metadata": {},
   "outputs": [
    {
     "name": "stdout",
     "output_type": "stream",
     "text": [
      "4000\n"
     ]
    }
   ],
   "source": [
    "import os\n",
    "filename = \"resources/imdb.csv\"\n",
    "if not os.path.exists(filename):\n",
    "    print(\"Not there!\")\n",
    "else:\n",
    "    print(len(open(filename).readlines()))"
   ]
  }
 ],
 "metadata": {
  "kernelspec": {
   "display_name": "Python 3",
   "language": "python",
   "name": "python3"
  },
  "language_info": {
   "codemirror_mode": {
    "name": "ipython",
    "version": 3
   },
   "file_extension": ".py",
   "mimetype": "text/x-python",
   "name": "python",
   "nbconvert_exporter": "python",
   "pygments_lexer": "ipython3",
   "version": "3.6.8"
  }
 },
 "nbformat": 4,
 "nbformat_minor": 2
}
